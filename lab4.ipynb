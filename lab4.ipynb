{
 "cells": [
  {
   "cell_type": "code",
   "execution_count": 44,
   "metadata": {},
   "outputs": [],
   "source": [
    "import random\n",
    "from math import exp"
   ]
  },
  {
   "cell_type": "code",
   "execution_count": 45,
   "metadata": {},
   "outputs": [],
   "source": [
    "from random import seed"
   ]
  },
  {
   "cell_type": "code",
   "execution_count": 46,
   "metadata": {},
   "outputs": [],
   "source": [
    "def initialize_network(n_inputs,n_hidden,n_outputs):\n",
    "    network=list()\n",
    "    hidden_layer=[{'weights':[random.uniform(-0.5,0.5) for i in range(n_inputs+1)]} for i in range (n_hidden)]\n",
    "    network.append(hidden_layer)\n",
    "    output_layer=[{'weights':[random.uniform(-0.5,0.5) for i in range(n_hidden+1)]} for i in range (n_outputs)]\n",
    "    network.append(output_layer)\n",
    "    return network"
   ]
  },
  {
   "cell_type": "code",
   "execution_count": 47,
   "metadata": {},
   "outputs": [],
   "source": [
    "def activate(weights,inputs):\n",
    "    activation=weights[-1]\n",
    "    for i in range(len(weights)-1):\n",
    "        activation+=weights[1]*inputs[i]\n",
    "    return activation"
   ]
  },
  {
   "cell_type": "code",
   "execution_count": 48,
   "metadata": {},
   "outputs": [],
   "source": [
    "def transfer(activation):\n",
    "    return 1.0/(1.0 + exp(-activation))\n"
   ]
  },
  {
   "cell_type": "code",
   "execution_count": 49,
   "metadata": {},
   "outputs": [],
   "source": [
    "def forward_propogate(network,row):\n",
    "    inputs=row\n",
    "    for layer in network:\n",
    "        new_inputs=[]\n",
    "        for neuron in layer:\n",
    "            activation=activate(neuron['weights'],inputs)\n",
    "            neuron['output']=transfer(activation)\n",
    "            new_inputs.append(neuron['output'])\n",
    "        inputs=new_inputs\n",
    "    return inputs"
   ]
  },
  {
   "cell_type": "code",
   "execution_count": 50,
   "metadata": {},
   "outputs": [],
   "source": [
    "def transfer_derivative(output):\n",
    "    return output *(1.0-output)"
   ]
  },
  {
   "cell_type": "code",
   "execution_count": 51,
   "metadata": {},
   "outputs": [],
   "source": [
    "def backward_propogate_error(network,expected):\n",
    "    for i in reversed(range(len(network))):\n",
    "        layer=network[i]\n",
    "        errors=list()\n",
    "        if i!=len(network)-1:\n",
    "            for j in range (len(layer)):\n",
    "                error=0.0\n",
    "                for neuron in network[i+1]:\n",
    "                     error+=(neuron['weights'][j]*neuron['delta'])\n",
    "                errors.append(error)\n",
    "        else:\n",
    "            for j in range(len(layer)):\n",
    "                neuron=layer[j]\n",
    "                errors.append(expected[j]-neuron['output'])\n",
    "        for j in range(len(layer)):\n",
    "            neuron=layer[j]\n",
    "            neuron['delta']=errors[j]*transfer_derivative(neuron['output'])\n",
    "            "
   ]
  },
  {
   "cell_type": "code",
   "execution_count": 52,
   "metadata": {},
   "outputs": [],
   "source": [
    "def update_weights(network,row,l_rate):\n",
    "    for i in range(len(network)):\n",
    "        inputs=row[:-1]\n",
    "        if i!=0:\n",
    "            inputs=[neuron['output'] for neuron in network[i-1]]\n",
    "        for neuron in network[i]:\n",
    "            for j in range(len(inputs)):\n",
    "                neuron['weights'][j]+=l_rate*neuron['delta']*inputs[j]\n",
    "                neuron['weights'][-1] += l_rate*neuron['delta']"
   ]
  },
  {
   "cell_type": "code",
   "execution_count": 53,
   "metadata": {},
   "outputs": [],
   "source": [
    "def train_network(network,train,l_rate,n_epoch,n_outputs):\n",
    "    for epoch in range(n_epoch):\n",
    "        sum_error=0\n",
    "        for row in train:\n",
    "            outputs=forward_propogate(network,row)\n",
    "            expected=[0 for i in range(n_outputs)]\n",
    "            expected[row[-1]]=1\n",
    "            sum_error+=sum([(expected[i]-outputs[i])**2 for i in range(len(expected))])\n",
    "            backward_propogate_error(network,expected)\n",
    "            update_weights(network,row,l_rate)\n",
    "        print('>epoch=%d,l_rate=%.3f,error=%.3f'%(epoch,l_rate,sum_error))"
   ]
  },
  {
   "cell_type": "code",
   "execution_count": 54,
   "metadata": {},
   "outputs": [
    {
     "name": "stdout",
     "output_type": "stream",
     "text": [
      ">epoch=0,l_rate=0.500,error=5.277\n",
      ">epoch=1,l_rate=0.500,error=5.309\n",
      ">epoch=2,l_rate=0.500,error=5.331\n",
      ">epoch=3,l_rate=0.500,error=5.340\n",
      ">epoch=4,l_rate=0.500,error=5.343\n",
      ">epoch=5,l_rate=0.500,error=5.343\n",
      ">epoch=6,l_rate=0.500,error=5.342\n",
      ">epoch=7,l_rate=0.500,error=5.341\n",
      ">epoch=8,l_rate=0.500,error=5.341\n",
      ">epoch=9,l_rate=0.500,error=5.341\n",
      ">epoch=10,l_rate=0.500,error=5.342\n",
      ">epoch=11,l_rate=0.500,error=5.344\n",
      ">epoch=12,l_rate=0.500,error=5.346\n",
      ">epoch=13,l_rate=0.500,error=5.349\n",
      ">epoch=14,l_rate=0.500,error=5.352\n",
      ">epoch=15,l_rate=0.500,error=5.356\n",
      ">epoch=16,l_rate=0.500,error=5.359\n",
      ">epoch=17,l_rate=0.500,error=5.362\n",
      ">epoch=18,l_rate=0.500,error=5.365\n",
      ">epoch=19,l_rate=0.500,error=5.368\n",
      "\n",
      " layer[1] node[1]:\n",
      " {'weights': [-0.3046123936673351, 0.5757474290781229, 0.4461585097429207], 'output': 0.9989769418141686, 'delta': 2.012256492810111e-05}\n",
      "\n",
      " layer[1] node[2]:\n",
      " {'weights': [-1.9555605576224995, -0.014698954002850803, -0.2336001010610404], 'output': 0.4187938156416363, 'delta': -0.003406987322422859}\n",
      "\n",
      " layer[2] node[1]:\n",
      " {'weights': [-0.3801757126167051, 0.3218025212270759, -0.8773773756225325], 'output': 0.429293739602514, 'delta': -0.10517723439984562}\n",
      "\n",
      " layer[2] node[2]:\n",
      " {'weights': [-0.08788960295640241, 0.23275227763341505, 0.09103738093171124], 'output': 0.5706768401660197, 'delta': 0.1051862281547262}\n"
     ]
    }
   ],
   "source": [
    "seed(1)\n",
    "dataset=[[2.7810836,2.550537003,0],\n",
    "         [1.465489372,2.362125076,0],\n",
    "         [3.396561688,4.400293529,0],\n",
    "         [1.3880719,1.850220317,0],\n",
    "         [3.06407232,3.005305973,0],\n",
    "         [7.627531214,2.759262235,1],\n",
    "         [5.332441248,2.088626775,1],\n",
    "         [6.922596716,1.77106367,1],\n",
    "         [8.675418651,-0.24208655,1],\n",
    "         [7.673756466,3.508563011,1]]\n",
    "n_inputs=len(dataset[0])-1\n",
    "n_outputs=len(set([row[-1] for row in dataset]))\n",
    "network=initialize_network(n_inputs,2,n_outputs)\n",
    "train_network(network,dataset,0.5,20,n_outputs)\n",
    "i=1\n",
    "for layer in network:\n",
    "    j=1\n",
    "    for sub in layer:\n",
    "        print(\"\\n layer[%d] node[%d]:\\n\"%(i,j),sub)\n",
    "        j=j+1\n",
    "    i=i+1   \n"
   ]
  },
  {
   "cell_type": "code",
   "execution_count": null,
   "metadata": {},
   "outputs": [],
   "source": []
  },
  {
   "cell_type": "code",
   "execution_count": null,
   "metadata": {},
   "outputs": [],
   "source": []
  }
 ],
 "metadata": {
  "kernelspec": {
   "display_name": "Python 3",
   "language": "python",
   "name": "python3"
  },
  "language_info": {
   "codemirror_mode": {
    "name": "ipython",
    "version": 3
   },
   "file_extension": ".py",
   "mimetype": "text/x-python",
   "name": "python",
   "nbconvert_exporter": "python",
   "pygments_lexer": "ipython3",
   "version": "3.6.5"
  }
 },
 "nbformat": 4,
 "nbformat_minor": 2
}
